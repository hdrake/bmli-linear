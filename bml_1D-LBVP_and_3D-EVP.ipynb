{
 "cells": [
  {
   "cell_type": "code",
   "execution_count": 566,
   "id": "a2d79912",
   "metadata": {},
   "outputs": [
    {
     "name": "stdout",
     "output_type": "stream",
     "text": [
      "The autoreload extension is already loaded. To reload it, use:\n",
      "  %reload_ext autoreload\n"
     ]
    }
   ],
   "source": [
    "%load_ext autoreload\n",
    "%autoreload 2"
   ]
  },
  {
   "cell_type": "code",
   "execution_count": 567,
   "id": "93326662",
   "metadata": {},
   "outputs": [],
   "source": [
    "import numpy as np\n",
    "import matplotlib.pyplot as plt\n",
    "\n",
    "import dedalus.public as d3\n",
    "\n",
    "import logging\n",
    "logger = logging.getLogger(__name__)"
   ]
  },
  {
   "cell_type": "markdown",
   "id": "4fcba5ed",
   "metadata": {},
   "source": [
    "# Nongeostrophic linear stability calculations for steady 1D sloping bottom mixing layers (SBML)"
   ]
  },
  {
   "cell_type": "code",
   "execution_count": 568,
   "id": "013959f9",
   "metadata": {},
   "outputs": [],
   "source": [
    "# parameters\n",
    "N = 1.e-3 # buoyancy frequency\n",
    "f = 5.e-5 # Coriolis parameter\n",
    "θ = 2.e-3 # slope angle\n",
    "\n",
    "κ0 = 5.e-5 # background diffusivity\n",
    "κ1 = 5.e-3 # bottom enhancement of diffusivity\n",
    "h = 250. # decay scale of mixing\n",
    "σ = 1 # Prandtl number\n",
    "\n",
    "H = 3000. # domain height"
   ]
  },
  {
   "cell_type": "markdown",
   "id": "b5973a93",
   "metadata": {},
   "source": [
    "### Setup numerical coordinates and grid for Dedalus (interpretive differential equation solver)"
   ]
  },
  {
   "cell_type": "code",
   "execution_count": 569,
   "id": "f9b2abd3",
   "metadata": {},
   "outputs": [],
   "source": [
    "## Coordinates and basis\n",
    "zcoord = d3.Coordinate('z')\n",
    "dist = d3.Distributor(zcoord, dtype=np.complex128)\n",
    "\n",
    "nz = 128 # number of grid points\n",
    "zbasis = d3.Chebyshev(zcoord, size=nz, bounds=(0, H), dealias=3/2)"
   ]
  },
  {
   "cell_type": "markdown",
   "id": "3bddca02",
   "metadata": {},
   "source": [
    "## Solve the 1D SBML Linear Boundary Value Problem (LBVP)"
   ]
  },
  {
   "cell_type": "markdown",
   "id": "b3d29995",
   "metadata": {},
   "source": [
    "### Setup variables and non-constant coefficients for the 1D SBML LBVP"
   ]
  },
  {
   "cell_type": "code",
   "execution_count": 570,
   "id": "0197fb6d",
   "metadata": {},
   "outputs": [
    {
     "data": {
      "image/png": "[encoded data removed]",
      "text/plain": [
       "<Figure size 288x288 with 1 Axes>"
      ]
     },
     "metadata": {
      "needs_background": "light"
     },
     "output_type": "display_data"
    }
   ],
   "source": [
    "## Fields\n",
    "\n",
    "# state variables\n",
    "B = dist.Field(name='B', bases=zbasis)\n",
    "U = dist.Field(name='U', bases=zbasis)\n",
    "V = dist.Field(name='V', bases=zbasis)\n",
    "\n",
    "# non-constant coefficients\n",
    "κ = dist.Field(name='κ', bases=zbasis)\n",
    "z = dist.local_grid(zbasis)\n",
    "κ['g'] = κ0 + κ1*np.exp(-z/h)\n",
    "\n",
    "plt.figure(figsize=(4,4))\n",
    "plt.plot(κ.data.real, z)\n",
    "plt.xlabel(r\"$\\kappa$ [m$^{2}$/s]\")\n",
    "plt.ylabel(r\"$z$ [m]\");"
   ]
  },
  {
   "cell_type": "markdown",
   "id": "51cd9642",
   "metadata": {},
   "source": [
    "Boundary conditions are numerically enforced using the \"tau method\", which requires additional polynomial terms be included to the equation sets (one per boundary condition)."
   ]
  },
  {
   "cell_type": "code",
   "execution_count": 571,
   "id": "cc25c630",
   "metadata": {},
   "outputs": [],
   "source": [
    "# boundary conditions (tau method)\n",
    "τ_B = dist.Field(name=\"τ_B\")\n",
    "τ_U = dist.Field(name=\"τ_U\")\n",
    "τ_V = dist.Field(name=\"τ_V\")\n",
    "\n",
    "τ_Bz = dist.Field(name=\"τ_Bz\")\n",
    "τ_Uz = dist.Field(name=\"τ_Uz\")\n",
    "τ_Vz = dist.Field(name=\"τ_Vz\")"
   ]
  },
  {
   "cell_type": "markdown",
   "id": "adfe30e2",
   "metadata": {},
   "source": [
    "Variable substitutions facilitate the symbolic representation of differential operations (and their corrresponding tau terms) and constants."
   ]
  },
  {
   "cell_type": "code",
   "execution_count": 572,
   "id": "0014d356",
   "metadata": {},
   "outputs": [],
   "source": [
    "# substitutions\n",
    "dz = lambda A: d3.Differentiate(A, zcoord)\n",
    "\n",
    "cosθ = np.cos(θ)\n",
    "sinθ = np.sin(θ)\n",
    "\n",
    "lift_basis = zbasis.clone_with(a=1/2, b=1/2) # First derivative basis\n",
    "lift = lambda A: d3.Lift(A, lift_basis, -1)\n",
    "Uz = dz(U) + lift(τ_Uz)\n",
    "Vz = dz(V) + lift(τ_Vz)\n",
    "Bz = dz(B) + lift(τ_Bz)\n",
    "\n",
    "noflux = dist.Field(name='noflux')\n",
    "noflux['g'] = -N**2*cosθ"
   ]
  },
  {
   "cell_type": "markdown",
   "id": "541dcf03",
   "metadata": {},
   "source": [
    "### Setup the LBVP and add equations and boundary conditions"
   ]
  },
  {
   "cell_type": "code",
   "execution_count": 573,
   "id": "fd84bef1",
   "metadata": {},
   "outputs": [
    {
     "name": "stdout",
     "output_type": "stream",
     "text": [
      "2022-02-16 09:52:18,951 subsystems 0/1 INFO :: Building subproblem matrices 1/1 (~100%) Elapsed: 0s, Remaining: 0s, Rate: 3.4e+00/s\n"
     ]
    }
   ],
   "source": [
    "problem = d3.LBVP([U, V, B, τ_U, τ_V, τ_B, τ_Uz, τ_Vz, τ_Bz], namespace=locals())\n",
    "\n",
    "# Equation set\n",
    "problem.add_equation(\"-f*V*cosθ - B*sinθ - σ*dz(κ*Uz) + lift(τ_U) = 0\")\n",
    "problem.add_equation(\"f*U*cosθ - σ*dz(κ*Vz) + lift(τ_V) = 0\")\n",
    "problem.add_equation(\"U*N**2*sinθ - dz(κ*Bz) + lift(τ_B) = dz(κ)*N**2*cosθ\")\n",
    "\n",
    "# Boundary conditions\n",
    "problem.add_equation('U(z=0) = 0')\n",
    "problem.add_equation('V(z=0) = 0')\n",
    "problem.add_equation('dz(B)(z=0) = noflux')\n",
    "problem.add_equation('dz(U)(z=H) = 0')\n",
    "problem.add_equation('dz(V)(z=H) = 0')\n",
    "problem.add_equation('dz(B)(z=H) = 0')\n",
    "\n",
    "# build solver (i.e. setup matrices for solution method)\n",
    "solver = problem.build_solver()\n",
    "\n",
    "# solve problem\n",
    "solver.solve()"
   ]
  },
  {
   "cell_type": "markdown",
   "id": "3429d330",
   "metadata": {},
   "source": [
    "Verify the solution by comparing against [Callies' (2018)](https://journals.ametsoc.org/view/journals/phoc/48/9/jpo-d-18-0082.1.xml) asymptotic analytical solution (valid here since $\\delta \\ll h$). "
   ]
  },
  {
   "cell_type": "code",
   "execution_count": 574,
   "id": "5c927757",
   "metadata": {},
   "outputs": [
    {
     "data": {
      "image/png": "[encoded data removed]",
      "text/plain": [
       "<Figure size 648x288 with 2 Axes>"
      ]
     },
     "metadata": {
      "needs_background": "light"
     },
     "output_type": "display_data"
    }
   ],
   "source": [
    "from bml_1d_LBVP_approx import *\n",
    "bml = bbl_exp(k0=κ0, k1=κ1, h=h, N=N, f=f, θ=θ, H=H, dz=0.1)\n",
    "\n",
    "plt.figure(figsize=(9,4))\n",
    "plt.subplot(1,2,1)\n",
    "plt.plot(bml['u']*1e3, bml['z'], label=\"Analytical (Callies 2018)\", lw=7.5, alpha=0.6)\n",
    "plt.plot(U['g'].real*1e3, z, \"k.-\", label=\"Dedalus LBVP\")\n",
    "plt.ylim(0, 100)\n",
    "plt.ylabel(\"height above bottom [m]\")\n",
    "plt.xlabel(r\"$U$ [mm/s]\")\n",
    "plt.grid(True, alpha=0.75)\n",
    "plt.legend()\n",
    "\n",
    "plt.subplot(1,2,2)\n",
    "plt.plot(bml['Bz'], bml['zf'], label=\"Analytical (Callies 2018)\", lw=7.5, alpha=0.6)\n",
    "plt.plot(np.diff(B['g'].real)/np.diff(z) + N**2*np.cos(θ), 0.5*(z[1:]+z[:-1]), \"k.-\", markersize=1., label=\"Dedalus LBVP\")\n",
    "plt.ylim(0, H)\n",
    "plt.xscale(\"log\")\n",
    "plt.ylabel(\"height above bottom [m]\")\n",
    "plt.xlabel(r\"$B_{z}$ [s$^{-2}$]\")\n",
    "plt.grid(True, alpha=0.75)\n",
    "plt.grid(True, which=\"minor\", alpha=0.3)\n",
    "\n",
    "plt.tight_layout()"
   ]
  },
  {
   "cell_type": "markdown",
   "id": "381237b7",
   "metadata": {},
   "source": [
    "## Solve the 3D Eigen-Value Problem (EVP) for small perturbations relative to the steady 1D SBML basic state"
   ]
  },
  {
   "cell_type": "markdown",
   "id": "20dacc08",
   "metadata": {},
   "source": [
    "We begin by illustrating the method of finding the maximum eigenvalue (growth rate) for a single pair normal modes (chosen to be close to the fastest-growing baroclinic mode)."
   ]
  },
  {
   "cell_type": "markdown",
   "id": "43e2ca98",
   "metadata": {},
   "source": [
    "We linearize the sloping Boussinesq equations relative to the 1D basic state shown above. We consider solutions $\\phi(z) \\propto \\exp\\{i(kx + ly - \\omega t)\\}$ with normal mode structures in $x$ and $y$ and with slope-normal $z$ structure to be determined.\n",
    "\n",
    "If $\\Im \\{ \\omega \\}>0$, then the perturbation will grow exponentially; conversely, any $\\Im \\{ \\omega \\}<0$ modes decay exponentially over time. Any $\\Re\\{ \\omega \\} \\neq 0$ component is oscillatory. \n",
    "\n",
    "We are interested in the eigenvalues/vectors with the largest imaginary component, since these will be the relevant growth rate and modal structures."
   ]
  },
  {
   "cell_type": "markdown",
   "id": "e6dcfa82",
   "metadata": {},
   "source": [
    "#### Setup and solve the EVP"
   ]
  },
  {
   "cell_type": "markdown",
   "id": "0ba1f902",
   "metadata": {},
   "source": [
    "Note that in an extremely convenient property of Dedalus is that the same parameters, coefficients, and variables can be reused from the LBVP above in the EVP below! This dramatically simplifies the problems setup!"
   ]
  },
  {
   "cell_type": "code",
   "execution_count": 584,
   "id": "6fea17d6",
   "metadata": {},
   "outputs": [
    {
     "name": "stdout",
     "output_type": "stream",
     "text": [
      "2022-02-16 10:43:57,748 subsystems 0/1 INFO :: Building subproblem matrices 1/1 (~100%) Elapsed: 2s, Remaining: 0s, Rate: 4.8e-01/s\n",
      "2022-02-16 10:44:03,925 subsystems 0/1 INFO :: Building subproblem matrices 1/1 (~100%) Elapsed: 2s, Remaining: 0s, Rate: 6.3e-01/s\n",
      "2022-02-16 10:44:09,671 subsystems 0/1 INFO :: Building subproblem matrices 1/1 (~100%) Elapsed: 2s, Remaining: 0s, Rate: 6.3e-01/s\n",
      "2022-02-16 10:44:15,411 subsystems 0/1 INFO :: Building subproblem matrices 1/1 (~100%) Elapsed: 2s, Remaining: 0s, Rate: 6.3e-01/s\n",
      "2022-02-16 10:44:21,191 subsystems 0/1 INFO :: Building subproblem matrices 1/1 (~100%) Elapsed: 2s, Remaining: 0s, Rate: 6.2e-01/s\n",
      "2022-02-16 10:44:26,919 subsystems 0/1 INFO :: Building subproblem matrices 1/1 (~100%) Elapsed: 2s, Remaining: 0s, Rate: 6.3e-01/s\n",
      "2022-02-16 10:44:32,731 subsystems 0/1 INFO :: Building subproblem matrices 1/1 (~100%) Elapsed: 2s, Remaining: 0s, Rate: 6.3e-01/s\n",
      "2022-02-16 10:44:38,485 subsystems 0/1 INFO :: Building subproblem matrices 1/1 (~100%) Elapsed: 2s, Remaining: 0s, Rate: 6.4e-01/s\n",
      "2022-02-16 10:44:44,340 subsystems 0/1 INFO :: Building subproblem matrices 1/1 (~100%) Elapsed: 2s, Remaining: 0s, Rate: 6.3e-01/s\n",
      "2022-02-16 10:44:51,024 subsystems 0/1 INFO :: Building subproblem matrices 1/1 (~100%) Elapsed: 2s, Remaining: 0s, Rate: 5.1e-01/s\n",
      "2022-02-16 10:44:56,961 subsystems 0/1 INFO :: Building subproblem matrices 1/1 (~100%) Elapsed: 2s, Remaining: 0s, Rate: 6.1e-01/s\n",
      "2022-02-16 10:45:04,846 subsystems 0/1 INFO :: Building subproblem matrices 1/1 (~100%) Elapsed: 3s, Remaining: 0s, Rate: 3.3e-01/s\n",
      "2022-02-16 10:45:12,374 subsystems 0/1 INFO :: Building subproblem matrices 1/1 (~100%) Elapsed: 2s, Remaining: 0s, Rate: 4.1e-01/s\n",
      "2022-02-16 10:45:18,963 subsystems 0/1 INFO :: Building subproblem matrices 1/1 (~100%) Elapsed: 2s, Remaining: 0s, Rate: 5.9e-01/s\n",
      "2022-02-16 10:45:28,897 subsystems 0/1 INFO :: Building subproblem matrices 1/1 (~100%) Elapsed: 3s, Remaining: 0s, Rate: 3.0e-01/s\n",
      "2022-02-16 10:45:35,134 subsystems 0/1 INFO :: Building subproblem matrices 1/1 (~100%) Elapsed: 2s, Remaining: 0s, Rate: 5.6e-01/s\n",
      "2022-02-16 10:45:41,366 subsystems 0/1 INFO :: Building subproblem matrices 1/1 (~100%) Elapsed: 2s, Remaining: 0s, Rate: 6.1e-01/s\n",
      "2022-02-16 10:45:47,759 subsystems 0/1 INFO :: Building subproblem matrices 1/1 (~100%) Elapsed: 2s, Remaining: 0s, Rate: 5.9e-01/s\n",
      "2022-02-16 10:45:54,474 subsystems 0/1 INFO :: Building subproblem matrices 1/1 (~100%) Elapsed: 2s, Remaining: 0s, Rate: 4.6e-01/s\n",
      "2022-02-16 10:46:01,368 subsystems 0/1 INFO :: Building subproblem matrices 1/1 (~100%) Elapsed: 2s, Remaining: 0s, Rate: 5.5e-01/s\n"
     ]
    },
    {
     "data": {
      "image/png": "[encoded data removed]",
      "text/plain": [
       "<Figure size 432x288 with 1 Axes>"
      ]
     },
     "metadata": {
      "needs_background": "light"
     },
     "output_type": "display_data"
    }
   ],
   "source": [
    "k=0\n",
    "n = 20\n",
    "for i, l in enumerate(np.logspace(-5, 0, n)):\n",
    "    # LINEAR STABILITY ANALYSIS\n",
    "\n",
    "    # variables\n",
    "    b = dist.Field(name='b', bases=zbasis)\n",
    "    u = dist.Field(name='u', bases=zbasis)\n",
    "    v = dist.Field(name='v', bases=zbasis)\n",
    "    w = dist.Field(name='w', bases=zbasis)\n",
    "    p = dist.Field(name='p', bases=zbasis)\n",
    "\n",
    "    # boundary condition fields (via tau method)\n",
    "    τ_b = dist.Field(name=\"τ_b\")\n",
    "    τ_u = dist.Field(name=\"τ_u\")\n",
    "    τ_v = dist.Field(name=\"τ_v\")\n",
    "    τ_w = dist.Field(name=\"τ_w\")\n",
    "    τ_p = dist.Field(name=\"τ_p\")\n",
    "\n",
    "    τ_bz = dist.Field(name=\"τ_bz\")\n",
    "    τ_uz = dist.Field(name=\"τ_uz\")\n",
    "    τ_vz = dist.Field(name=\"τ_vz\")\n",
    "    τ_wz = dist.Field(name=\"τ_wz\")\n",
    "\n",
    "    # eigenvalues\n",
    "    ω = dist.Field(name=\"ω\")\n",
    "\n",
    "    # substitutions\n",
    "    dx = lambda ϕ: 1j*k*ϕ\n",
    "    dy = lambda ϕ: 1j*l*ϕ\n",
    "    dt = lambda ϕ: -1j*ω*ϕ\n",
    "\n",
    "    integ = lambda A: d3.Integrate(A, 'z')\n",
    "\n",
    "    lift_basis = zbasis.clone_with(a=1/2, b=1/2)\n",
    "    lift = lambda A: d3.Lift(A, lift_basis, -1)\n",
    "\n",
    "    uz = dz(u) + lift(τ_uz)\n",
    "    vz = dz(v) + lift(τ_vz)\n",
    "    wz = dz(w) + lift(τ_wz)\n",
    "    bz = dz(b) + lift(τ_bz)\n",
    "\n",
    "    # setup problem\n",
    "    problem = d3.EVP(\n",
    "        [u, v, w, b, p, # perturbation variables\n",
    "         τ_u, τ_v, τ_w, τ_b, τ_p, τ_uz, τ_vz, τ_wz, τ_bz], # taus for enforcing boundary conditions\n",
    "        eigenvalue=ω,\n",
    "        namespace=locals()\n",
    "    )\n",
    "    problem.add_equation(# Cross-slope momentum\n",
    "        'dt(u) + U*dx(u) + V*dy(u) + w*Uz - f*v*cosθ + dx(p)'\n",
    "        '- b*sinθ - σ*(κ*dx(dx(u)) + κ*dy(dy(u)) + dz(κ*uz))'\n",
    "        '+ lift(τ_u) = 0'\n",
    "    )\n",
    "    problem.add_equation((# Along-slope momentum\n",
    "        'dt(v) + U*dx(v) + V*dy(v) + w*Vz + f*(u*cosθ - w*sinθ) + dy(p)'\n",
    "        '- σ*(κ*dx(dx(v)) + κ*dy(dy(v)) + dz(κ*vz))'\n",
    "        '+ lift(τ_v) = 0'\n",
    "    ))\n",
    "    problem.add_equation((# Slope-normal momentum\n",
    "        'dt(w) + U*dx(w) + V*dy(w) + f*v*sinθ + dz(p)'\n",
    "        '- b*cosθ - σ*(κ*dx(dx(w)) - κ*dy(dy(w)) - dz(κ*wz))'\n",
    "        '+ lift(τ_w) = 0'\n",
    "    ))\n",
    "    problem.add_equation((# Buoyancy\n",
    "        'dt(b) + U*dx(b) + V*dy(b) + u*N**2*sinθ + w*Bz'\n",
    "        '- κ*dx(dx(b)) - κ*dy(dy(b)) - dz(κ*bz)'\n",
    "        '+ lift(τ_b) = 0'\n",
    "    ))\n",
    "    problem.add_equation('dx(u) + dy(v) + wz + τ_p = 0')\n",
    "\n",
    "    problem.add_equation('u(z=0) = 0')\n",
    "    problem.add_equation('v(z=0) = 0')\n",
    "    problem.add_equation('w(z=0) = 0')\n",
    "    problem.add_equation('dz(b)(z=0) = 0')\n",
    "\n",
    "    problem.add_equation('dz(u)(z=H) = 0')\n",
    "    problem.add_equation('dz(v)(z=H) = 0')\n",
    "    problem.add_equation('w(z=H) = 0')\n",
    "    problem.add_equation('dz(b)(z=H) = 0')\n",
    "\n",
    "    problem.add_equation(\"integ(p) = 0\") # Pressure gauge\n",
    "\n",
    "    # set up solver\n",
    "    solver = problem.build_solver()\n",
    "\n",
    "    # solve the EVP\n",
    "    solver.solve_dense(solver.subproblems[0])\n",
    "\n",
    "    # sort eigenvalues\n",
    "    omega = np.copy(solver.eigenvalues)\n",
    "    omega[np.isnan(omega)] = 0.\n",
    "    omega[np.isinf(omega)] = 0.\n",
    "    idx = np.argsort(omega.imag)[-1] # sorts from small to large\n",
    "\n",
    "    # compute time and lengthscales\n",
    "    gr = omega.imag[idx]\n",
    "    L = (2*np.pi/l) # in meters\n",
    "    \n",
    "    plt.plot(l, gr*1e6, \".\")\n",
    "    plt.xlabel(\"along-slope wavenumber $l$ [m$^{-1}$]\")\n",
    "    plt.ylabel(\"growth rate $\\Im \\{\\omega \\}$ [$10^{-6}$ s$^{-1}$]\")\n",
    "    plt.xscale(\"log\")\n",
    "    plt.yscale(\"log\")"
   ]
  },
  {
   "cell_type": "code",
   "execution_count": 497,
   "id": "9c0fa2b3",
   "metadata": {},
   "outputs": [
    {
     "name": "stderr",
     "output_type": "stream",
     "text": [
      "/var/folders/_7/54nm1vyx6gg9l5f555w0c1tc0000gn/T/ipykernel_22546/2669817470.py:15: RuntimeWarning: divide by zero encountered in true_divide\n",
      "  gr = (2*np.pi/omega.imag/86400.)[idx]\n",
      "/var/folders/_7/54nm1vyx6gg9l5f555w0c1tc0000gn/T/ipykernel_22546/2669817470.py:17: RuntimeWarning: divide by zero encountered in true_divide\n",
      "  plt.plot(2*np.pi/omega.imag/86400., \".\")\n"
     ]
    },
    {
     "name": "stdout",
     "output_type": "stream",
     "text": [
      "Growth rate is 2.573 days for L = 418.8790204786391 m\n"
     ]
    },
    {
     "data": {
      "image/png": "[encoded data removed]",
      "text/plain": [
       "<Figure size 864x324 with 2 Axes>"
      ]
     },
     "metadata": {
      "needs_background": "light"
     },
     "output_type": "display_data"
    }
   ],
   "source": [
    "plt.figure(figsize=(12, 4.5))\n",
    "plt.subplot(1,2,1)\n",
    "plt.plot(omega.imag, \".\")\n",
    "plt.yscale(\"symlog\", linthresh=1e-8)\n",
    "plt.plot(range(omega.size)[idx], omega.imag[idx],\n",
    "         \"C3o\", markersize=8, label=\"maximum growth rate\",\n",
    "         markeredgecolor=\"k\", markeredgewidth=0.5\n",
    ")\n",
    "plt.grid(True)\n",
    "plt.grid(True, which=\"minor\", alpha=0.2)\n",
    "plt.xlabel(\"eigenvalue number\")\n",
    "plt.ylabel(\"imaginary component of eigenvalue [rad/s]\")\n",
    "plt.legend()\n",
    "\n",
    "plt.subplot(1,2,2)\n",
    "plt.plot(2*np.pi/omega.imag/86400., \".\")\n",
    "plt.yscale(\"log\")\n",
    "plt.ylim(1, 1e4)\n",
    "plt.plot(range(omega.size)[idx], gr,\n",
    "         \"C3o\", markersize=8, label=\"maximum growth rate\",\n",
    "         markeredgecolor=\"k\", markeredgewidth=0.5\n",
    ")\n",
    "plt.grid(True)\n",
    "plt.grid(True, which=\"minor\", alpha=0.4)\n",
    "plt.xlabel(\"eigenvalue number\")\n",
    "plt.ylabel(\"inverse of imaginary component of eigenvalue [days]\")\n",
    "plt.tight_layout()\n",
    "\n"
   ]
  },
  {
   "cell_type": "markdown",
   "id": "d98c5b71",
   "metadata": {},
   "source": [
    "#### Work in progress: visualizing the structure of the fastest-growing perturbations (and their covariances, which do not necessarily vanish under phase-averaging)"
   ]
  },
  {
   "cell_type": "code",
   "execution_count": 388,
   "id": "d2991f51",
   "metadata": {},
   "outputs": [],
   "source": [
    "solver.set_state(idx[-1], solver.subsystems[0])"
   ]
  },
  {
   "cell_type": "code",
   "execution_count": 389,
   "id": "ff7754ed",
   "metadata": {},
   "outputs": [
    {
     "data": {
      "text/plain": [
       "[<matplotlib.lines.Line2D at 0x7f9aad915550>]"
      ]
     },
     "execution_count": 389,
     "metadata": {},
     "output_type": "execute_result"
    },
    {
     "data": {
      "image/png": "[encoded data removed]",
      "text/plain": [
       "<Figure size 432x288 with 1 Axes>"
      ]
     },
     "metadata": {
      "needs_background": "light"
     },
     "output_type": "display_data"
    }
   ],
   "source": [
    "plt.plot(b['g'].real, z)\n",
    "#plt.plot(w['g'].real, z)"
   ]
  },
  {
   "cell_type": "code",
   "execution_count": null,
   "id": "4b1af33b",
   "metadata": {},
   "outputs": [],
   "source": [
    "#%%\n",
    "def sorted_eigen(k, l):\n",
    "\n",
    "    \"\"\"\n",
    "    Solves eigenvalue problem and returns sorted eigenvalues and associated\n",
    "    eigenvectors.\n",
    "    \"\"\"\n",
    "\n",
    "    # set wavenumbers\n",
    "    problem.namespace['k'].value = k\n",
    "    problem.namespace['l'].value = l\n",
    "\n",
    "    # solve problem\n",
    "    solver.solve_dense(solver.pencils[0], rebuild_coeffs=True)\n",
    "\n",
    "    # sort eigenvalues\n",
    "    omg = solver.eigenvalues\n",
    "    omg[np.isnan(omg)] = 0.\n",
    "    omg[np.isinf(omg)] = 0.\n",
    "    idx = np.argsort(omg.imag)\n",
    "\n",
    "    return idx\n",
    "\n",
    "def max_growth_rate(k, l):\n",
    "\n",
    "    \"\"\"Finds maximum growth rate for given wavenumbers k, l.\"\"\"\n",
    "\n",
    "    print(k, l)\n",
    "\n",
    "    # solve eigenvalue problem and sort\n",
    "    idx = sorted_eigen(k, l)\n",
    "\n",
    "    return solver.eigenvalues[idx[-1]].imag\n",
    "\n",
    "# get max growth rates\n",
    "gr = np.array([max_growth_rate(0, l) for l in ll])\n",
    "\n",
    "# get full eigenvectors and eigenvalues for l with largest growth\n",
    "idx = sorted_eigen(0., ll[np.argmax(gr)])\n",
    "solver.set_state(idx[-1])\n",
    "\n",
    "# collect eigenvector\n",
    "u = solver.state['u']\n",
    "v = solver.state['v']\n",
    "w = solver.state['w']\n",
    "b = solver.state['b']\n",
    "\n",
    "# shear production\n",
    "SP = -2*np.real(np.conj(w['g'])*(u['g']*Uz['g']+v['g']*Vz['g']))\n",
    "\n",
    "# buoyancy production\n",
    "BP = 2*np.real((u['g']*np.sin(θ)+w['g']*np.cos(θ))*np.conj(b['g']))\n",
    "\n",
    "# SAVE TO FILE\n",
    "\n",
    "np.savez(name + '.npz', nz=nz, N=N, θ=θ, z=z, κ=κ['g'], σ=σ, U=U['g'],\n",
    "        V=V['g'], B=B['g'], u=u['g'], v=v['g'], w=w['g'], b=b['g'], ll=ll,\n",
    "        gr=gr, SP=SP, BP=BP)\n",
    "\n",
    "# PLOTTING\n",
    "\n",
    "# mean state\n",
    "\n",
    "fig, ax = plt.subplots(1, 3, sharey=True)\n",
    "\n",
    "ax[0].semilogx(κ['g'], z)\n",
    "ax[0].set_xlabel('mixing coefficient [m$^2$/s]', va='baseline')\n",
    "ax[0].set_ylabel('slope-normal coordinate [m]')\n",
    "ax[0].get_xaxis().set_label_coords(.5, -.12)\n",
    "\n",
    "ax[1].plot(U['g'].real, z)\n",
    "ax[1].plot(V['g'].real, z)\n",
    "ax[1].set_xlabel('mean flow [m/s]', va='baseline')\n",
    "ax[1].get_xaxis().set_label_coords(.5, -.12)\n",
    "\n",
    "ax[2].plot(N**2*np.cos(θ)*z + B['g'].real, z)\n",
    "ax[2].set_xlabel('mean buoyancy [m/s$^2$]', va='baseline')\n",
    "ax[2].get_xaxis().set_label_coords(.5, -.12)\n",
    "\n",
    "#fig.savefig('fig/mean_state.pdf')\n",
    "\n",
    "# energetics\n",
    "#%%\n",
    "plt.figure(figsize=(4.8, 4.8))\n",
    "plt.semilogx(ll, gr)\n",
    "plt.xlabel('along-track wavenumber [m$^{-1}$]')\n",
    "plt.ylabel('growth rate')\n",
    "plt.ticklabel_format(style='sci', axis='y', scilimits=(0, 0))\n",
    "plt.tight_layout()\n",
    "#plt.savefig('fig/growth_rate.pdf')\n",
    "#%%\n",
    "plt.figure(figsize=(4.8, 4.8))\n",
    "plt.plot(SP, z)\n",
    "plt.plot(BP, z)\n",
    "plt.xlabel('kinetic energy tendency [m$^2$/s$^3$]')\n",
    "plt.ylabel('slope-normal coordinate [m]')\n",
    "plt.ticklabel_format(style='sci', axis='x', scilimits=(0, 0))\n",
    "plt.legend(['shear production', 'buoyancy production'], frameon=False)\n",
    "plt.tight_layout()\n",
    "#plt.savefig('fig/energetics.pdf')\n",
    "\n",
    "# most unstable mode\n",
    "\n",
    "ly = np.linspace(0, 2*np.pi, nz)\n",
    "\n",
    "fig, ax = plt.subplots(2, 2, sharex=True, sharey=True, figsize=(6.4, 6.4))\n",
    "im = ax[0,0].pcolormesh(ly, z, np.real(u['g'].reshape(nz, 1)\n",
    "        * np.exp(1j*ly.reshape(1,nz))), rasterized=True, cmap='RdBu_r')\n",
    "plt.colorbar(im, ax=ax[0,0])\n",
    "ax[0,0].set_title('across-slope velocity')\n",
    "im = ax[0,1].pcolormesh(ly, z, np.real(v['g'].reshape(nz, 1)\n",
    "        * np.exp(1j*ly.reshape(1,nz))), rasterized=True, cmap='RdBu_r')\n",
    "plt.colorbar(im, ax=ax[0,1])\n",
    "ax[0,1].set_title('along-slope velocity')\n",
    "im = ax[1,0].pcolormesh(ly, z, np.real(w['g'].reshape(nz, 1)\n",
    "        * np.exp(1j*ly.reshape(1,nz))), rasterized=True, cmap='RdBu_r')\n",
    "plt.colorbar(im, ax=ax[1,0])\n",
    "ax[1,0].set_title('slope-normal velocity')\n",
    "im = ax[1,1].pcolormesh(ly, z, np.real(b['g'].reshape(nz, 1)\n",
    "        * np.exp(1j*ly.reshape(1,nz))), rasterized=True, cmap='RdBu_r')\n",
    "plt.colorbar(im, ax=ax[1,1])\n",
    "ax[1,1].set_title('buoyancy')\n",
    "ax[0,0].set_xticks([0, np.pi, 2*np.pi])\n",
    "ax[1,0].set_xlabel('phase')\n",
    "ax[1,1].set_xlabel('phase')\n",
    "ax[0,0].set_ylabel('slope-normal coordinate [m]')\n",
    "ax[1,0].set_ylabel('slope-normal coordinate [m]')\n",
    "#plt.savefig('fig/modes.pdf', dpi=300)\n",
    "\n",
    "plt.show()"
   ]
  }
 ],
 "metadata": {
  "kernelspec": {
   "display_name": "Python 3 (ipykernel)",
   "language": "python",
   "name": "python3"
  },
  "language_info": {
   "codemirror_mode": {
    "name": "ipython",
    "version": 3
   },
   "file_extension": ".py",
   "mimetype": "text/x-python",
   "name": "python",
   "nbconvert_exporter": "python",
   "pygments_lexer": "ipython3",
   "version": "3.8.12"
  }
 },
 "nbformat": 4,
 "nbformat_minor": 5
}
