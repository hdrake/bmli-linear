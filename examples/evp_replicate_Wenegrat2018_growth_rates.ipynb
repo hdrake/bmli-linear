{
 "cells": [
  {
   "cell_type": "code",
   "execution_count": 246,
   "id": "c1137451",
   "metadata": {},
   "outputs": [
    {
     "name": "stdout",
     "output_type": "stream",
     "text": [
      "The autoreload extension is already loaded. To reload it, use:\n",
      "  %reload_ext autoreload\n"
     ]
    }
   ],
   "source": [
    "%load_ext autoreload\n",
    "%autoreload 2"
   ]
  },
  {
   "cell_type": "code",
   "execution_count": 247,
   "id": "2c362fac",
   "metadata": {},
   "outputs": [],
   "source": [
    "import numpy as np\n",
    "import matplotlib.pyplot as plt\n",
    "\n",
    "import dedalus.public as d3\n",
    "\n",
    "import logging\n",
    "logger = logging.getLogger(__name__)"
   ]
  },
  {
   "cell_type": "markdown",
   "id": "f7423f76",
   "metadata": {},
   "source": [
    "# Nongeostrophic linear stability calculations for steady 1D sloping bottom mixing layers (SBML)"
   ]
  },
  {
   "cell_type": "code",
   "execution_count": 248,
   "id": "63afe5aa",
   "metadata": {},
   "outputs": [],
   "source": [
    "# parameters\n",
    "N = 1.e-3 # buoyancy frequency\n",
    "f = -5.5e-5 # Coriolis parameter\n",
    "θ = 2.e-3 # slope angle\n",
    "\n",
    "κ0 = 1.e-5 # background diffusivity\n",
    "κ1 = 1.e-3 # bottom enhancement of diffusivity\n",
    "h = 200. # decay scale of mixing\n",
    "σ = 1 # Prandtl number\n",
    "\n",
    "H = 2500. # domain height"
   ]
  },
  {
   "cell_type": "markdown",
   "id": "d2e11bfd",
   "metadata": {},
   "source": [
    "### Setup numerical coordinates and grid for Dedalus (interpretive differential equation solver)"
   ]
  },
  {
   "cell_type": "code",
   "execution_count": 249,
   "id": "790ce7a9",
   "metadata": {},
   "outputs": [],
   "source": [
    "## Coordinates and basis\n",
    "zcoord = d3.Coordinate('z')\n",
    "dist = d3.Distributor(zcoord, dtype=np.complex128)\n",
    "\n",
    "nz = 256 # number of grid points\n",
    "zbasis = d3.Chebyshev(zcoord, size=nz, bounds=(0, H), dealias=3/2)"
   ]
  },
  {
   "cell_type": "markdown",
   "id": "6f2084bb",
   "metadata": {},
   "source": [
    "## Solve the 1D SBML Linear Boundary Value Problem (LBVP)"
   ]
  },
  {
   "cell_type": "markdown",
   "id": "d7c7e073",
   "metadata": {},
   "source": [
    "### Setup variables and non-constant coefficients for the 1D SBML LBVP"
   ]
  },
  {
   "cell_type": "code",
   "execution_count": 250,
   "id": "77689fd8",
   "metadata": {},
   "outputs": [
    {
     "data": {
      "image/png": "[encoded data removed]",
      "text/plain": [
       "<Figure size 288x288 with 1 Axes>"
      ]
     },
     "metadata": {
      "needs_background": "light"
     },
     "output_type": "display_data"
    }
   ],
   "source": [
    "## Fields\n",
    "\n",
    "# state variables\n",
    "B = dist.Field(name='B', bases=zbasis)\n",
    "U = dist.Field(name='U', bases=zbasis)\n",
    "V = dist.Field(name='V', bases=zbasis)\n",
    "\n",
    "# non-constant coefficients\n",
    "κ = dist.Field(name='κ', bases=zbasis)\n",
    "z = dist.local_grid(zbasis)\n",
    "κ['g'] = κ0 + κ1*np.exp(-z/h)\n",
    "\n",
    "plt.figure(figsize=(4,4))\n",
    "plt.plot(κ.data.real, z)\n",
    "plt.xlabel(r\"$\\kappa$ [m$^{2}$/s]\")\n",
    "plt.ylabel(r\"$z$ [m]\");"
   ]
  },
  {
   "cell_type": "markdown",
   "id": "bde7a1a5",
   "metadata": {},
   "source": [
    "Boundary conditions are numerically enforced using the \"tau method\", which requires additional polynomial terms be included to the equation sets (one per boundary condition)."
   ]
  },
  {
   "cell_type": "code",
   "execution_count": 251,
   "id": "a079e6a4",
   "metadata": {},
   "outputs": [],
   "source": [
    "# boundary conditions (tau method)\n",
    "τ_B = dist.Field(name=\"τ_B\")\n",
    "τ_U = dist.Field(name=\"τ_U\")\n",
    "τ_V = dist.Field(name=\"τ_V\")\n",
    "\n",
    "τ_Bz = dist.Field(name=\"τ_Bz\")\n",
    "τ_Uz = dist.Field(name=\"τ_Uz\")\n",
    "τ_Vz = dist.Field(name=\"τ_Vz\")"
   ]
  },
  {
   "cell_type": "markdown",
   "id": "8efdb951",
   "metadata": {},
   "source": [
    "Variable substitutions facilitate the symbolic representation of differential operations (and their corrresponding tau terms) and constants."
   ]
  },
  {
   "cell_type": "code",
   "execution_count": 252,
   "id": "0da71b0b",
   "metadata": {},
   "outputs": [],
   "source": [
    "# substitutions\n",
    "dz = lambda A: d3.Differentiate(A, zcoord)\n",
    "\n",
    "cosθ = np.cos(θ)\n",
    "sinθ = np.sin(θ)\n",
    "N2 = N**2\n",
    "\n",
    "lift_basis = zbasis.clone_with(a=1/2, b=1/2) # First derivative basis\n",
    "lift = lambda A: d3.Lift(A, lift_basis, -1)\n",
    "Uz = dz(U) + lift(τ_Uz)\n",
    "Vz = dz(V) + lift(τ_Vz)\n",
    "Bz = dz(B) + lift(τ_Bz)\n",
    "\n",
    "noflux = dist.Field(name='noflux')\n",
    "noflux['g'] = -N2*cosθ"
   ]
  },
  {
   "cell_type": "markdown",
   "id": "5c9c6d55",
   "metadata": {},
   "source": [
    "### Setup the LBVP and add equations and boundary conditions"
   ]
  },
  {
   "cell_type": "code",
   "execution_count": 253,
   "id": "8ebc839e",
   "metadata": {},
   "outputs": [
    {
     "name": "stdout",
     "output_type": "stream",
     "text": [
      "2022-02-16 16:22:53,571 subsystems 0/1 INFO :: Building subproblem matrices 1/1 (~100%) Elapsed: 1s, Remaining: 0s, Rate: 1.1e+00/s\n"
     ]
    }
   ],
   "source": [
    "problem = d3.LBVP([U, V, B, τ_U, τ_V, τ_B, τ_Uz, τ_Vz, τ_Bz], namespace=locals())\n",
    "\n",
    "# Equation set\n",
    "problem.add_equation(\"-f*V*cosθ - B*sinθ - σ*dz(κ*Uz) + lift(τ_U) = 0\")\n",
    "problem.add_equation(\"f*U*cosθ - σ*dz(κ*Vz) + lift(τ_V) = 0\")\n",
    "problem.add_equation(\"U*N2*sinθ - dz(κ*Bz) + lift(τ_B) = dz(κ)*N2*cosθ\")\n",
    "\n",
    "# Boundary conditions\n",
    "problem.add_equation('U(z=0) = 0')\n",
    "problem.add_equation('V(z=0) = 0')\n",
    "problem.add_equation('dz(B)(z=0) = noflux')\n",
    "problem.add_equation('dz(U)(z=H) = 0')\n",
    "problem.add_equation('dz(V)(z=H) = 0')\n",
    "problem.add_equation('dz(B)(z=H) = 0')\n",
    "\n",
    "# build solver (i.e. setup matrices for solution method)\n",
    "solver = problem.build_solver()\n",
    "\n",
    "# solve problem\n",
    "solver.solve()"
   ]
  },
  {
   "cell_type": "markdown",
   "id": "6394cb4f",
   "metadata": {},
   "source": [
    "Verify the solution by comparing against [Callies' (2018)](https://journals.ametsoc.org/view/journals/phoc/48/9/jpo-d-18-0082.1.xml) asymptotic analytical solution (valid here since $\\delta \\ll h$). "
   ]
  },
  {
   "cell_type": "code",
   "execution_count": 254,
   "id": "a3a70364",
   "metadata": {},
   "outputs": [
    {
     "data": {
      "image/png": "[encoded data removed]",
      "text/plain": [
       "<Figure size 720x288 with 3 Axes>"
      ]
     },
     "metadata": {
      "needs_background": "light"
     },
     "output_type": "display_data"
    }
   ],
   "source": [
    "from bml_1d_LBVP_approx import *\n",
    "bml = bbl_exp(k0=κ0, k1=κ1, h=h, N=N, f=f, θ=θ, H=H, dz=0.1)\n",
    "\n",
    "plt.figure(figsize=(10,4))\n",
    "plt.subplot(1,3,1)\n",
    "plt.plot(bml['u']*1e3, bml['z'], label=\"Analytical (Callies 2018)\", lw=7.5, alpha=0.6)\n",
    "plt.plot(U['g'].real*1e3, z, \"k.-\", label=\"Dedalus LBVP\")\n",
    "plt.ylim(0, 100)\n",
    "plt.ylabel(\"height above bottom [m]\")\n",
    "plt.xlabel(r\"$U$ [mm/s]\")\n",
    "plt.grid(True, alpha=0.75)\n",
    "plt.legend()\n",
    "\n",
    "plt.subplot(1,3,2)\n",
    "plt.plot(bml['v']*1e3, bml['z'], label=\"Analytical (Callies 2018)\", lw=7.5, alpha=0.6)\n",
    "plt.plot(V['g'].real*1e3, z, \"k.-\", markersize=1., label=\"Dedalus LBVP\")\n",
    "plt.ylim(0, H)\n",
    "plt.ylabel(\"height above bottom [m]\")\n",
    "plt.xlabel(r\"$V$ [mm/s]\")\n",
    "plt.grid(True, alpha=0.75)\n",
    "\n",
    "plt.subplot(1,3,3)\n",
    "plt.plot(bml['Bz'], bml['zf'], label=\"Analytical (Callies 2018)\", lw=7.5, alpha=0.6)\n",
    "plt.plot(np.diff(B['g'].real)/np.diff(z) + N2*np.cos(θ), 0.5*(z[1:]+z[:-1]), \"k.-\", markersize=1., label=\"Dedalus LBVP\")\n",
    "plt.ylim(0, H)\n",
    "plt.xscale(\"log\")\n",
    "plt.ylabel(\"height above bottom [m]\")\n",
    "plt.xlabel(r\"$B_{z}$ [s$^{-2}$]\")\n",
    "plt.grid(True, alpha=0.75)\n",
    "plt.grid(True, which=\"minor\", alpha=0.3)\n",
    "\n",
    "plt.tight_layout()"
   ]
  },
  {
   "cell_type": "markdown",
   "id": "903aaf40",
   "metadata": {},
   "source": [
    "## Solve the 3D Eigen-Value Problem (EVP) for small perturbations relative to the steady 1D SBML basic state"
   ]
  },
  {
   "cell_type": "markdown",
   "id": "b8425f44",
   "metadata": {},
   "source": [
    "We begin by illustrating the method of finding the maximum eigenvalue (growth rate) for a single pair normal modes (chosen to be close to the fastest-growing baroclinic mode)."
   ]
  },
  {
   "cell_type": "markdown",
   "id": "f8594a5c",
   "metadata": {},
   "source": [
    "We linearize the sloping Boussinesq equations relative to the 1D basic state shown above. We consider solutions $\\phi(z) \\propto \\exp\\{i(kx + ly - \\omega t)\\}$ with normal mode structures in $x$ and $y$ and with slope-normal $z$ structure to be determined.\n",
    "\n",
    "If $\\Im \\{ \\omega \\}>0$, then the perturbation will grow exponentially; conversely, any $\\Im \\{ \\omega \\}<0$ modes decay exponentially over time. Any $\\Re\\{ \\omega \\} \\neq 0$ component is oscillatory. \n",
    "\n",
    "We are interested in the eigenvalues/vectors with the *largest positive imaginary component*, since these will be the relevant growth rate and modal structures."
   ]
  },
  {
   "cell_type": "markdown",
   "id": "1048f078",
   "metadata": {},
   "source": [
    "#### Setup and solve the EVP"
   ]
  },
  {
   "cell_type": "markdown",
   "id": "75b032f5",
   "metadata": {},
   "source": [
    "Note that in an extremely convenient property of Dedalus is that the same parameters, coefficients, and variables can be reused from the LBVP above in the EVP below! This dramatically simplifies the problems setup!"
   ]
  },
  {
   "cell_type": "code",
   "execution_count": 255,
   "id": "610ef4ea",
   "metadata": {},
   "outputs": [
    {
     "name": "stdout",
     "output_type": "stream",
     "text": [
      "2022-02-16 16:22:59,854 subsystems 0/1 INFO :: Building subproblem matrices 1/1 (~100%) Elapsed: 4s, Remaining: 0s, Rate: 2.8e-01/s\n"
     ]
    },
    {
     "data": {
      "image/png": "[encoded data removed]",
      "text/plain": [
       "<Figure size 432x324 with 1 Axes>"
      ]
     },
     "metadata": {
      "needs_background": "light"
     },
     "output_type": "display_data"
    }
   ],
   "source": [
    "k=0\n",
    "l=2e-4\n",
    "\n",
    "# LINEAR STABILITY ANALYSIS\n",
    "\n",
    "# variables\n",
    "b = dist.Field(name='b', bases=zbasis)\n",
    "u = dist.Field(name='u', bases=zbasis)\n",
    "v = dist.Field(name='v', bases=zbasis)\n",
    "w = dist.Field(name='w', bases=zbasis)\n",
    "p = dist.Field(name='p', bases=zbasis)\n",
    "\n",
    "# boundary condition fields (via tau method)\n",
    "τ_b = dist.Field(name=\"τ_b\")\n",
    "τ_u = dist.Field(name=\"τ_u\")\n",
    "τ_v = dist.Field(name=\"τ_v\")\n",
    "τ_w = dist.Field(name=\"τ_w\")\n",
    "τ_p = dist.Field(name=\"τ_p\")\n",
    "\n",
    "τ_bz = dist.Field(name=\"τ_bz\")\n",
    "τ_uz = dist.Field(name=\"τ_uz\")\n",
    "τ_vz = dist.Field(name=\"τ_vz\")\n",
    "τ_wz = dist.Field(name=\"τ_wz\")\n",
    "\n",
    "# eigenvalues\n",
    "ω = dist.Field(name=\"ω\")\n",
    "\n",
    "# substitutions\n",
    "dx = lambda ϕ: 1j*k*ϕ\n",
    "dy = lambda ϕ: 1j*l*ϕ\n",
    "dt = lambda ϕ: -1j*ω*ϕ\n",
    "integ = lambda A: d3.Integrate(A, 'z')\n",
    "\n",
    "## How should I be setting these?\n",
    "lift_basis = zbasis.clone_with(a=1/2, b=1/2) # First derivative basis\n",
    "lift = lambda A: d3.Lift(A, lift_basis, -1)\n",
    "\n",
    "# First-order reductions\n",
    "uz = dz(u) + lift(τ_uz)\n",
    "vz = dz(v) + lift(τ_vz)\n",
    "wz = dz(w) + lift(τ_wz)\n",
    "bz = dz(b) + lift(τ_bz)\n",
    "\n",
    "# setup problem\n",
    "problem = d3.EVP(\n",
    "    [u, v, w, b, p, # perturbation variables\n",
    "     τ_u, τ_v, τ_w, τ_b, τ_p, τ_uz, τ_vz, τ_wz, τ_bz], # taus for enforcing boundary conditions\n",
    "    eigenvalue=ω,\n",
    "    namespace=locals()\n",
    ")\n",
    "problem.add_equation(# Cross-slope momentum\n",
    "    'dt(u) + w*dz(U) + U*dx(u) + V*dy(u) - f*v*cosθ + dx(p)'\n",
    "    '- b*sinθ - σ*dz(κ*uz)'\n",
    "    '+ lift(τ_u) = 0'\n",
    ")\n",
    "problem.add_equation((# Along-slope momentum\n",
    "    'dt(v) + w*dz(V) + U*dx(v) + V*dy(v) + f*(u*cosθ - w*sinθ) + dy(p)'\n",
    "    '- σ*dz(κ*vz)'\n",
    "    '+ lift(τ_v) = 0'\n",
    "))\n",
    "problem.add_equation((# Slope-normal momentum\n",
    "    'dt(w) + U*dx(w) + V*dy(w) + f*v*sinθ + dz(p)'\n",
    "    '- b*cosθ - σ*dz(κ*wz)'\n",
    "    '+ lift(τ_w) = 0'\n",
    "))\n",
    "problem.add_equation((# Buoyancy\n",
    "    'dt(b) + u*N2*sinθ + w*N2*cosθ + w*dz(B) + U*dx(b) + V*dy(b)'\n",
    "    '- dz(κ*bz)'\n",
    "    '+ lift(τ_b) = 0'\n",
    "))\n",
    "problem.add_equation('dx(u) + dy(v) + wz + τ_p = 0')\n",
    "\n",
    "problem.add_equation('u(z=0) = 0')\n",
    "problem.add_equation('v(z=0) = 0')\n",
    "problem.add_equation('w(z=0) = 0')\n",
    "problem.add_equation('dz(b)(z=0) = 0')\n",
    "\n",
    "problem.add_equation('dz(u)(z=H) = 0')\n",
    "problem.add_equation('dz(v)(z=H) = 0')\n",
    "problem.add_equation('w(z=H)*cosθ + u(z=H)*sinθ = 0') # vanishing vertical (not slope-normal) velocity\n",
    "problem.add_equation('dz(b)(z=H) = 0')\n",
    "\n",
    "problem.add_equation(\"integ(p) = 0\") # Pressure gauge\n",
    "\n",
    "# set up solver\n",
    "solver = problem.build_solver()\n",
    "\n",
    "# solve the EVP\n",
    "solver.solve_dense(solver.subproblems[0])\n",
    "\n",
    "# sort eigenvalues\n",
    "omega = np.copy(solver.eigenvalues)\n",
    "omega[np.isnan(omega)] = 0.\n",
    "omega[np.isinf(omega)] = 0.\n",
    "idx = np.argsort(omega.imag)[-1] # sorts from small to large\n",
    "\n",
    "plt.figure(figsize=(6, 4.5))\n",
    "plt.plot(omega.imag, \".\")\n",
    "plt.yscale(\"symlog\", linthresh=1e-8)\n",
    "\n",
    "plt.grid(True)\n",
    "plt.grid(True, which=\"minor\", alpha=0.2)\n",
    "plt.xlabel(\"eigenvalue number\")\n",
    "plt.ylabel(\"imaginary component of eigenvalue [rad/s]\")\n",
    "plt.xlim(0, nz*5+9)\n",
    "plt.plot(range(omega.size)[idx], omega.imag[idx],\n",
    "        \"C3o\", markersize=8, label=\"maximum growth rate\",\n",
    "        markeredgecolor=\"k\", markeredgewidth=0.5\n",
    ")\n",
    "plt.legend();"
   ]
  },
  {
   "cell_type": "markdown",
   "id": "9338e700",
   "metadata": {},
   "source": [
    "#### Work in progress: visualizing the structure of the fastest-growing perturbations (and their covariances, which do not necessarily vanish under phase-averaging)"
   ]
  },
  {
   "cell_type": "code",
   "execution_count": 221,
   "id": "44e8f1b9",
   "metadata": {},
   "outputs": [],
   "source": [
    "solver.set_state(idx, solver.subsystems[0])"
   ]
  },
  {
   "cell_type": "code",
   "execution_count": null,
   "id": "863aa08e",
   "metadata": {},
   "outputs": [],
   "source": []
  },
  {
   "cell_type": "code",
   "execution_count": null,
   "id": "3745cd78",
   "metadata": {},
   "outputs": [],
   "source": []
  },
  {
   "cell_type": "code",
   "execution_count": null,
   "id": "ceaaad39",
   "metadata": {},
   "outputs": [],
   "source": []
  }
 ],
 "metadata": {
  "kernelspec": {
   "display_name": "Python 3 (ipykernel)",
   "language": "python",
   "name": "python3"
  },
  "language_info": {
   "codemirror_mode": {
    "name": "ipython",
    "version": 3
   },
   "file_extension": ".py",
   "mimetype": "text/x-python",
   "name": "python",
   "nbconvert_exporter": "python",
   "pygments_lexer": "ipython3",
   "version": "3.8.12"
  }
 },
 "nbformat": 4,
 "nbformat_minor": 5
}
