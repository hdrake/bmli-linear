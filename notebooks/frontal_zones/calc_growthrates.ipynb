{
 "cells": [
  {
   "cell_type": "code",
   "execution_count": 42,
   "id": "a80ef911",
   "metadata": {},
   "outputs": [
    {
     "name": "stdout",
     "output_type": "stream",
     "text": [
      "The autoreload extension is already loaded. To reload it, use:\n",
      "  %reload_ext autoreload\n"
     ]
    }
   ],
   "source": [
    "%load_ext autoreload\n",
    "%autoreload 2"
   ]
  },
  {
   "cell_type": "code",
   "execution_count": 43,
   "id": "82e15b62",
   "metadata": {},
   "outputs": [],
   "source": [
    "import numpy as np\n",
    "import matplotlib.pyplot as plt\n",
    "import matplotlib\n",
    "import xarray as xr\n",
    "\n",
    "matplotlib.rcParams.update({'font.size': 14})\n",
    "import dedalus.public as d3\n",
    "\n",
    "import logging\n",
    "logging.disable()"
   ]
  },
  {
   "cell_type": "code",
   "execution_count": 44,
   "id": "c904862d",
   "metadata": {},
   "outputs": [],
   "source": [
    "from frontal_zone import *"
   ]
  },
  {
   "cell_type": "code",
   "execution_count": 45,
   "id": "8593478f",
   "metadata": {},
   "outputs": [],
   "source": [
    "n_wavenumbers = 50; wavenumbers = 10. **np.linspace(-5, -2, n_wavenumbers)"
   ]
  },
  {
   "cell_type": "markdown",
   "id": "e05da55b",
   "metadata": {},
   "source": [
    "## Sensitivity of growth rate $\\Im\\{\\omega\\}$ and instability scale $\\lambda_{\\text{max}}$ to frontal strength $M$"
   ]
  },
  {
   "cell_type": "code",
   "execution_count": 46,
   "id": "30d8ced8",
   "metadata": {},
   "outputs": [
    {
     "name": "stdout",
     "output_type": "stream",
     "text": [
      "We consider only subcritical fronts, i.e. with M < Mc = 4.47e-05, which are gravitationally stable.\n"
     ]
    }
   ],
   "source": [
    "Mc = N*np.sqrt(np.sin(θ))\n",
    "print(fr\"We consider only subcritical fronts, i.e. with M < Mc = {round(Mc,7)}, which are gravitationally stable.\")\n",
    "\n",
    "ms = np.logspace(0, 5, 6)\n",
    "Ms = calc_M_from_m(ms, Mc)\n",
    "gr = xr.DataArray(np.zeros((n_wavenumbers, Ms.size)), coords={'wavenumber':wavenumbers, 'M':Ms,})\n",
    "for M in Ms:\n",
    "    for n in wavenumbers:\n",
    "        bfzi = bottom_frontal_zone_instability(0., 2*np.pi*n, M, κ0=1.e-7, κ1=0.)\n",
    "        gr = gr.where(~((gr.M==M) & (gr.wavenumber==n)), bfzi['omega'][bfzi['idx']].imag)\n",
    "gr.to_netcdf(\"../../data/growth_rates/frontal_strength_M.nc\")"
   ]
  },
  {
   "cell_type": "markdown",
   "id": "fc1c56ed",
   "metadata": {},
   "source": [
    "## Sensitivity to frictional parameters ($\\nu, \\kappa, \\nu_{h}, \\kappa_{h}, \\nu_{4}, \\kappa_{4}$)"
   ]
  },
  {
   "cell_type": "code",
   "execution_count": 47,
   "id": "de8d1161",
   "metadata": {},
   "outputs": [],
   "source": [
    "m = 100\n",
    "M = calc_M_from_m(m, Mc)\n",
    "\n",
    "gr = xr.Dataset()\n",
    "gr.attrs[\"m\"] = m\n",
    "gr.attrs[\"M\"] = M\n",
    "friction_scalings = np.array([0., 1.e-2, 1e-1, 1.e0, 1e1, 1.e2, 1.e3])\n",
    "\n",
    "reference_friction = {\n",
    "    \"κ0\":κ0, \"κ1\":κ1, \"νh\":0.1, \"ν4\":2.e5,\n",
    "}"
   ]
  },
  {
   "cell_type": "markdown",
   "id": "820515d6",
   "metadata": {},
   "source": [
    "##### Inviscid control"
   ]
  },
  {
   "cell_type": "code",
   "execution_count": 48,
   "id": "9c06dd77",
   "metadata": {},
   "outputs": [],
   "source": [
    "gr['inviscid'] = xr.DataArray(np.zeros((n_wavenumbers,)), coords={'wavenumber':wavenumbers,})\n",
    "for n in wavenumbers:\n",
    "    bfzi = bottom_frontal_zone_instability(0., 2*np.pi*n, M, κ0=1.e-7, κ1=0.)\n",
    "    gr['inviscid'] = gr['inviscid'].where(~(gr.wavenumber==n), bfzi['omega'][bfzi['idx']].imag)"
   ]
  },
  {
   "cell_type": "markdown",
   "id": "38d9b2a3",
   "metadata": {},
   "source": [
    "##### Only background slope-normal diffusivity and viscosity"
   ]
  },
  {
   "cell_type": "code",
   "execution_count": null,
   "id": "f9715311",
   "metadata": {},
   "outputs": [],
   "source": [
    "gr['k0'] = xr.DataArray(np.zeros((n_wavenumbers, friction_scalings.size)), coords={'wavenumber':wavenumbers, 'friction_scaling':friction_scalings,})\n",
    "for sc in friction_scalings:\n",
    "    for n in wavenumbers:\n",
    "        bfzi = bottom_frontal_zone_instability(0., 2*np.pi*n, M, κ0=reference_friction[\"κ0\"]*sc, κ1=0.)\n",
    "        gr['k0'] = gr['k0'].where(~((gr.friction_scaling==sc) & (gr.wavenumber==n)), bfzi['omega'][bfzi['idx']].imag)"
   ]
  },
  {
   "cell_type": "code",
   "execution_count": null,
   "id": "675437ad",
   "metadata": {},
   "outputs": [],
   "source": [
    "gr['inviscid'].plot()\n",
    "plt.xscale(\"log\")\n",
    "plt.yscale(\"log\")\n",
    "for sc in friction_scalings:\n",
    "    gr['k0'].sel(friction_scaling=sc).plot(label=f\"{sc}\")\n",
    "    \n",
    "plt.legend()\n",
    "plt.grid(True)"
   ]
  },
  {
   "cell_type": "markdown",
   "id": "d365035f",
   "metadata": {},
   "source": [
    "##### Variable bottom-enhancement of diffusivity and viscosity (on top of weak background)"
   ]
  },
  {
   "cell_type": "code",
   "execution_count": null,
   "id": "7e2de4f4",
   "metadata": {},
   "outputs": [],
   "source": [
    "gr['k1'] = xr.DataArray(np.zeros((n_wavenumbers, friction_scalings.size)), coords={'wavenumber':wavenumbers, 'friction_scaling':friction_scalings,})\n",
    "for sc in friction_scalings:\n",
    "    for n in wavenumbers:\n",
    "        bfzi = bottom_frontal_zone_instability(0., 2*np.pi*n, M, κ0=reference_friction[\"κ0\"], κ1=reference_friction[\"κ1\"]*sc)\n",
    "        gr['k1'] = gr['k1'].where(~((gr.friction_scaling==sc) & (gr.wavenumber==n)), bfzi['omega'][bfzi['idx']].imag)"
   ]
  },
  {
   "cell_type": "code",
   "execution_count": null,
   "id": "efb0a884",
   "metadata": {},
   "outputs": [],
   "source": [
    "gr['inviscid'].plot()\n",
    "plt.xscale(\"log\")\n",
    "plt.yscale(\"log\")\n",
    "for sc in friction_scalings:\n",
    "    gr['k1'].sel(friction_scaling=sc).plot(label=f\"{sc}\")\n",
    "    \n",
    "plt.legend()"
   ]
  },
  {
   "cell_type": "markdown",
   "id": "10ce41c9",
   "metadata": {},
   "source": [
    "##### Variable horizontal Laplacian viscosity"
   ]
  },
  {
   "cell_type": "code",
   "execution_count": null,
   "id": "4476f59a",
   "metadata": {},
   "outputs": [],
   "source": [
    "gr['nuh'] = xr.DataArray(np.zeros((n_wavenumbers, friction_scalings.size)), coords={'wavenumber':wavenumbers, 'friction_scaling':friction_scalings,})\n",
    "for sc in friction_scalings:\n",
    "    for n in wavenumbers:\n",
    "        bfzi = bottom_frontal_zone_instability(0., 2*np.pi*n, M, κ0=1.e-7, κ1=0., νh=reference_friction[\"νh\"]*sc)\n",
    "        gr['nuh'] = gr['nuh'].where(~((gr.friction_scaling==sc) & (gr.wavenumber==n)), bfzi['omega'][bfzi['idx']].imag)"
   ]
  },
  {
   "cell_type": "code",
   "execution_count": null,
   "id": "c890ec82",
   "metadata": {},
   "outputs": [],
   "source": [
    "gr['inviscid'].plot()\n",
    "plt.xscale(\"log\")\n",
    "plt.yscale(\"log\")\n",
    "for sc in friction_scalings:\n",
    "    gr['nuh'].sel(friction_scaling=sc).plot(label=f\"{sc}\")\n",
    "    \n",
    "plt.legend()"
   ]
  },
  {
   "cell_type": "markdown",
   "id": "3135d1f9",
   "metadata": {},
   "source": [
    "##### Variable horizontal hyper-viscosity (w/ background diffusivities)"
   ]
  },
  {
   "cell_type": "code",
   "execution_count": null,
   "id": "5f448bdb",
   "metadata": {},
   "outputs": [],
   "source": [
    "gr['nu4'] = xr.DataArray(np.zeros((n_wavenumbers, friction_scalings.size)), coords={'wavenumber':wavenumbers, 'friction_scaling':friction_scalings,})\n",
    "for sc in friction_scalings:\n",
    "    for n in wavenumbers:\n",
    "        bfzi = bottom_frontal_zone_instability(0., 2*np.pi*n, M, κ0=1.e-7, κ1=0., ν4=reference_friction[\"ν4\"]*sc)\n",
    "        gr['nu4'] = gr['nu4'].where(~((gr.friction_scaling==sc) & (gr.wavenumber==n)), bfzi['omega'][bfzi['idx']].imag)"
   ]
  },
  {
   "cell_type": "code",
   "execution_count": null,
   "id": "576ea6c9",
   "metadata": {},
   "outputs": [],
   "source": [
    "gr['inviscid'].plot()\n",
    "plt.xscale(\"log\")\n",
    "plt.yscale(\"log\")\n",
    "for sc in friction_scalings:\n",
    "    gr['nu4'].sel(friction_scaling=sc).plot(label=f\"{sc}\")\n",
    "    \n",
    "plt.legend()"
   ]
  },
  {
   "cell_type": "markdown",
   "id": "2fd3d7d7",
   "metadata": {},
   "source": [
    "##### Overly-viscous case"
   ]
  },
  {
   "cell_type": "code",
   "execution_count": null,
   "id": "42201fd1",
   "metadata": {},
   "outputs": [],
   "source": [
    "gr['viscous'] = xr.DataArray(np.zeros((n_wavenumbers,)), coords={'wavenumber':wavenumbers,})\n",
    "for n in wavenumbers:\n",
    "    bfzi = bottom_frontal_zone_instability(\n",
    "        0., 2*np.pi*n, M,\n",
    "        νh=reference_friction[\"νh\"], ν4=reference_friction[\"ν4\"]\n",
    "    )\n",
    "    gr['viscous'] = gr['viscous'].where(~(gr.wavenumber==n), bfzi['omega'][bfzi['idx']].imag)"
   ]
  },
  {
   "cell_type": "markdown",
   "id": "8c2d327a",
   "metadata": {},
   "source": [
    "### Saving calculations for post-processing"
   ]
  },
  {
   "cell_type": "code",
   "execution_count": null,
   "id": "3ddb377b",
   "metadata": {},
   "outputs": [],
   "source": [
    "gr.to_netcdf(\"../../data/growth_rates/friction.nc\")"
   ]
  },
  {
   "cell_type": "code",
   "execution_count": null,
   "id": "7c9824d4",
   "metadata": {},
   "outputs": [],
   "source": []
  }
 ],
 "metadata": {
  "kernelspec": {
   "display_name": "Python 3 (ipykernel)",
   "language": "python",
   "name": "python3"
  },
  "language_info": {
   "codemirror_mode": {
    "name": "ipython",
    "version": 3
   },
   "file_extension": ".py",
   "mimetype": "text/x-python",
   "name": "python",
   "nbconvert_exporter": "python",
   "pygments_lexer": "ipython3",
   "version": "3.8.12"
  }
 },
 "nbformat": 4,
 "nbformat_minor": 5
}
