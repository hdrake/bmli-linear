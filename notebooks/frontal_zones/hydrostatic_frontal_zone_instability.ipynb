{
 "cells": [
  {
   "cell_type": "code",
   "execution_count": 5,
   "id": "b11af5d1",
   "metadata": {},
   "outputs": [
    {
     "name": "stdout",
     "output_type": "stream",
     "text": [
      "The autoreload extension is already loaded. To reload it, use:\n",
      "  %reload_ext autoreload\n"
     ]
    }
   ],
   "source": [
    "%load_ext autoreload\n",
    "%autoreload 2"
   ]
  },
  {
   "cell_type": "code",
   "execution_count": 6,
   "id": "42d0e68f",
   "metadata": {},
   "outputs": [],
   "source": [
    "import numpy as np\n",
    "import matplotlib.pyplot as plt\n",
    "import matplotlib\n",
    "\n",
    "matplotlib.rcParams.update({'font.size': 14})\n",
    "import dedalus.public as d3\n",
    "\n",
    "import logging\n",
    "logger = logging.getLogger(__name__)"
   ]
  },
  {
   "cell_type": "markdown",
   "id": "921c1894",
   "metadata": {},
   "source": [
    "## Example of nongeostrophic linear stability calculation for idealized bottom frontal zones"
   ]
  },
  {
   "cell_type": "code",
   "execution_count": 7,
   "id": "77e8be63",
   "metadata": {},
   "outputs": [],
   "source": [
    "from frontal_zone import *"
   ]
  },
  {
   "cell_type": "code",
   "execution_count": 8,
   "id": "662d766a",
   "metadata": {},
   "outputs": [
    {
     "name": "stdout",
     "output_type": "stream",
     "text": [
      "2022-06-22 13:17:04,442 subsystems 0/1 INFO :: Building subproblem matrices 1/1 (~100%) Elapsed: 1s, Remaining: 0s, Rate: 7.8e-01/s\n",
      "2022-06-22 13:17:08,786 subsystems 0/1 INFO :: Building subproblem matrices 1/1 (~100%) Elapsed: 1s, Remaining: 0s, Rate: 7.8e-01/s\n",
      "2022-06-22 13:17:13,247 subsystems 0/1 INFO :: Building subproblem matrices 1/1 (~100%) Elapsed: 1s, Remaining: 0s, Rate: 7.2e-01/s\n",
      "2022-06-22 13:17:17,503 subsystems 0/1 INFO :: Building subproblem matrices 1/1 (~100%) Elapsed: 1s, Remaining: 0s, Rate: 7.5e-01/s\n",
      "2022-06-22 13:17:22,164 subsystems 0/1 INFO :: Building subproblem matrices 1/1 (~100%) Elapsed: 1s, Remaining: 0s, Rate: 7.0e-01/s\n",
      "2022-06-22 13:17:26,617 subsystems 0/1 INFO :: Building subproblem matrices 1/1 (~100%) Elapsed: 1s, Remaining: 0s, Rate: 6.9e-01/s\n",
      "2022-06-22 13:17:30,986 subsystems 0/1 INFO :: Building subproblem matrices 1/1 (~100%) Elapsed: 1s, Remaining: 0s, Rate: 8.3e-01/s\n",
      "2022-06-22 13:17:35,071 subsystems 0/1 INFO :: Building subproblem matrices 1/1 (~100%) Elapsed: 1s, Remaining: 0s, Rate: 8.5e-01/s\n",
      "2022-06-22 13:17:39,154 subsystems 0/1 INFO :: Building subproblem matrices 1/1 (~100%) Elapsed: 1s, Remaining: 0s, Rate: 8.5e-01/s\n",
      "2022-06-22 13:17:44,657 subsystems 0/1 INFO :: Building subproblem matrices 1/1 (~100%) Elapsed: 2s, Remaining: 0s, Rate: 5.8e-01/s\n",
      "2022-06-22 13:17:53,166 subsystems 0/1 INFO :: Building subproblem matrices 1/1 (~100%) Elapsed: 5s, Remaining: 0s, Rate: 2.1e-01/s\n",
      "2022-06-22 13:17:58,836 subsystems 0/1 INFO :: Building subproblem matrices 1/1 (~100%) Elapsed: 2s, Remaining: 0s, Rate: 6.2e-01/s\n",
      "2022-06-22 13:18:03,256 subsystems 0/1 INFO :: Building subproblem matrices 1/1 (~100%) Elapsed: 1s, Remaining: 0s, Rate: 6.9e-01/s\n",
      "2022-06-22 13:18:07,696 subsystems 0/1 INFO :: Building subproblem matrices 1/1 (~100%) Elapsed: 1s, Remaining: 0s, Rate: 6.9e-01/s\n",
      "2022-06-22 13:18:12,261 subsystems 0/1 INFO :: Building subproblem matrices 1/1 (~100%) Elapsed: 2s, Remaining: 0s, Rate: 6.1e-01/s\n",
      "2022-06-22 13:18:16,788 subsystems 0/1 INFO :: Building subproblem matrices 1/1 (~100%) Elapsed: 1s, Remaining: 0s, Rate: 6.7e-01/s\n",
      "2022-06-22 13:18:21,433 subsystems 0/1 INFO :: Building subproblem matrices 1/1 (~100%) Elapsed: 2s, Remaining: 0s, Rate: 6.5e-01/s\n",
      "2022-06-22 13:18:25,860 subsystems 0/1 INFO :: Building subproblem matrices 1/1 (~100%) Elapsed: 1s, Remaining: 0s, Rate: 6.9e-01/s\n",
      "2022-06-22 13:18:30,613 subsystems 0/1 INFO :: Building subproblem matrices 1/1 (~100%) Elapsed: 2s, Remaining: 0s, Rate: 5.9e-01/s\n",
      "2022-06-22 13:18:35,281 subsystems 0/1 INFO :: Building subproblem matrices 1/1 (~100%) Elapsed: 1s, Remaining: 0s, Rate: 7.1e-01/s\n"
     ]
    }
   ],
   "source": [
    "M = 4.427855905235292e-05 # strength of bottom frontal zone (sqrt of horizontal buoyancy gradient)\n",
    "k = 0. # cross-slope wavenumber (l=0 isolates fastest growing baroclinic mode)\n",
    "\n",
    "# Setup and solve eigenvalue problem for bottom frontal zone linear instability\n",
    "\n",
    "Ls = 10. **np.linspace(-5, -2.5, 10)\n",
    "growth_rates = {}\n",
    "for nh in [0., 1.]:\n",
    "    growth_rates[nh] = np.zeros_like(Ls)\n",
    "    for i, L in enumerate(Ls):\n",
    "        ds = bottom_frontal_zone_instability(0., 2*np.pi*L, M, nh=nh)\n",
    "        growth_rates[nh][i] = ds['omega'][ds['idx']].imag"
   ]
  },
  {
   "cell_type": "code",
   "execution_count": 11,
   "id": "7d6fd06e",
   "metadata": {},
   "outputs": [
    {
     "data": {
      "image/png": "[encoded data removed]",
      "text/plain": [
       "<Figure size 540x360 with 1 Axes>"
      ]
     },
     "metadata": {
      "needs_background": "light"
     },
     "output_type": "display_data"
    }
   ],
   "source": [
    "plt.figure(figsize=(7.5,5))\n",
    "plt.ylim(1e-7, 4e-5)\n",
    "plt.xlim(1e-5, 2e-3)\n",
    "plt.xscale(\"log\")\n",
    "plt.yscale(\"log\")\n",
    "\n",
    "plt.ylabel(r\"growth rate $\\Im\\{\\omega\\}$ [rad/s]\")\n",
    "plt.xlabel(r\"along-slope wavenumber $\\ell$ [1/m]\")\n",
    "plt.grid(True, alpha=0.2)\n",
    "\n",
    "Λ = M**2/f\n",
    "Ri = N**2/Λ**2\n",
    "\n",
    "for k,gr in growth_rates.items():\n",
    "    p = plt.plot(Ls, gr, \".-\", label=fr\"nh = {k}\")\n",
    "    idx = np.argmax(gr)\n",
    "    plt.plot(Ls[idx], gr[idx], \"o\", markeredgecolor=\"k\", color=p[0].get_c(), markersize=10)\n",
    "\n",
    "plt.axvline(1. /500. - 2.e-5, label=\"grid resolution\", color=\"k\", lw=5, alpha=0.5)\n",
    "plt.legend(handlelength=1.2, labelspacing=0.08, loc=\"upper left\");"
   ]
  },
  {
   "cell_type": "code",
   "execution_count": null,
   "id": "d185e0ee",
   "metadata": {},
   "outputs": [],
   "source": []
  }
 ],
 "metadata": {
  "kernelspec": {
   "display_name": "Python 3 (ipykernel)",
   "language": "python",
   "name": "python3"
  },
  "language_info": {
   "codemirror_mode": {
    "name": "ipython",
    "version": 3
   },
   "file_extension": ".py",
   "mimetype": "text/x-python",
   "name": "python",
   "nbconvert_exporter": "python",
   "pygments_lexer": "ipython3",
   "version": "3.8.12"
  }
 },
 "nbformat": 4,
 "nbformat_minor": 5
}
