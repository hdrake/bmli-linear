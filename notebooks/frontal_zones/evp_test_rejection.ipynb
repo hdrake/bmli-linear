{
 "cells": [
  {
   "cell_type": "code",
   "execution_count": 1,
   "id": "70512395",
   "metadata": {},
   "outputs": [],
   "source": [
    "%load_ext autoreload\n",
    "%autoreload 2"
   ]
  },
  {
   "cell_type": "code",
   "execution_count": 2,
   "id": "febff84d",
   "metadata": {},
   "outputs": [],
   "source": [
    "import numpy as np\n",
    "import matplotlib.pyplot as plt\n",
    "import matplotlib\n",
    "import sys, os\n",
    "\n",
    "matplotlib.rcParams.update({'font.size': 14})"
   ]
  },
  {
   "cell_type": "code",
   "execution_count": 3,
   "id": "82a57cd5",
   "metadata": {},
   "outputs": [],
   "source": [
    "sys.path.append(\"../../src/\")\n",
    "import bfzi\n",
    "from bfzi.helpers import *\n",
    "from bfzi.linear_instability import *"
   ]
  },
  {
   "cell_type": "markdown",
   "id": "dce5c821",
   "metadata": {},
   "source": [
    "## Example of nongeostrophic linear stability calculation for idealized bottom frontal zones"
   ]
  },
  {
   "cell_type": "code",
   "execution_count": 7,
   "id": "b17584ea",
   "metadata": {},
   "outputs": [
    {
     "name": "stdout",
     "output_type": "stream",
     "text": [
      "2022-07-05 10:47:36,129 subsystems 0/1 INFO :: Building subproblem matrices 1/1 (~100%) Elapsed: 1s, Remaining: 0s, Rate: 9.1e-01/s\n",
      "2022-07-05 10:47:48,159 subsystems 0/1 INFO :: Building subproblem matrices 1/1 (~100%) Elapsed: 1s, Remaining: 0s, Rate: 8.1e-01/s\n"
     ]
    }
   ],
   "source": [
    "Ri = 10 # gradient Richardson number\n",
    "M = calc_M_from_Ri(Ri, N, f, θ) # strength of bottom frontal zone (sqrt of horizontal buoyancy gradient)\n",
    "k = 0. # cross-slope 4wavenumber (l=0 isolates fastest growing baroclinic mode)\n",
    "\n",
    "# Know from sensitivity experiment that this is roughly the fastest growing mode\n",
    "l = 3.5e-4 * 2*np.pi # along-slope wavenumber (rad/m)\n",
    "\n",
    "# Setup and solve eigenvalue problem for bottom frontal zone linear instability\n",
    "nz = 128\n",
    "ds = bottom_frontal_zone_instability(k, l, M, κ0=0.e-7, κ1=0., nz=nz)\n",
    "ds_hi = bottom_frontal_zone_instability(k, l, M, κ0=0.e-7, κ1=0., nz=np.int64(1.25*nz))"
   ]
  },
  {
   "cell_type": "code",
   "execution_count": 8,
   "id": "8cf4cf7e",
   "metadata": {},
   "outputs": [
    {
     "name": "stderr",
     "output_type": "stream",
     "text": [
      "/var/folders/_7/54nm1vyx6gg9l5f555w0c1tc0000gn/T/ipykernel_76682/2314056440.py:10: RuntimeWarning: divide by zero encountered in true_divide\n",
      "  deltas = np.abs(gr[::-1][:n] - gr_hi[::-1][:n]) / sigmas\n",
      "/var/folders/_7/54nm1vyx6gg9l5f555w0c1tc0000gn/T/ipykernel_76682/2314056440.py:10: RuntimeWarning: invalid value encountered in true_divide\n",
      "  deltas = np.abs(gr[::-1][:n] - gr_hi[::-1][:n]) / sigmas\n",
      "/var/folders/_7/54nm1vyx6gg9l5f555w0c1tc0000gn/T/ipykernel_76682/2314056440.py:20: RuntimeWarning: divide by zero encountered in true_divide\n",
      "  plt.plot(np.sort(1/deltas)[::-1], \".\")\n"
     ]
    },
    {
     "data": {
      "image/png": "[encoded data removed]",
      "text/plain": [
       "<Figure size 720x360 with 2 Axes>"
      ]
     },
     "metadata": {
      "needs_background": "light"
     },
     "output_type": "display_data"
    }
   ],
   "source": [
    "plt.figure(figsize=(10, 5))\n",
    "gr = np.sort(ds['omega'].imag)[::-1]\n",
    "gr_hi = np.sort(ds_hi['omega'].imag)[::-1]\n",
    "n = len(gr)\n",
    "\n",
    "sigmas = np.zeros(n)\n",
    "sigmas[0] = np.abs(np.diff(gr))[0]\n",
    "sigmas[1:-1] = [0.5*(np.abs(gr[j] - gr[j - 1]) + np.abs(gr[j + 1] - gr[j])) for j in range(1, n-1)]\n",
    "sigmas[-1] = np.abs(np.diff(np.sort(gr)))[-1]\n",
    "deltas = np.abs(gr[::-1][:n] - gr_hi[::-1][:n]) / sigmas\n",
    "\n",
    "plt.subplot(1,2,1)\n",
    "plt.plot(gr, \"o\", alpha=0.4)\n",
    "plt.plot(gr_hi, \"o\", alpha=0.4)\n",
    "plt.yscale(\"log\")\n",
    "plt.ylim(1e-9, 1e-5)\n",
    "plt.xlim(0, 10)\n",
    "\n",
    "plt.subplot(1,2,2)\n",
    "plt.plot(np.sort(1/deltas)[::-1], \".\")\n",
    "plt.yscale(\"log\")\n",
    "plt.tight_layout()"
   ]
  },
  {
   "cell_type": "code",
   "execution_count": 9,
   "id": "423ead3a",
   "metadata": {},
   "outputs": [
    {
     "data": {
      "text/plain": [
       "(3.481812429251165e-05, 3.481841227731924e-05)"
      ]
     },
     "execution_count": 9,
     "metadata": {},
     "output_type": "execute_result"
    }
   ],
   "source": [
    "gr[0], gr_hi[0]"
   ]
  },
  {
   "cell_type": "code",
   "execution_count": null,
   "id": "9025d0b5",
   "metadata": {},
   "outputs": [],
   "source": []
  }
 ],
 "metadata": {
  "kernelspec": {
   "display_name": "Python 3 (ipykernel)",
   "language": "python",
   "name": "python3"
  },
  "language_info": {
   "codemirror_mode": {
    "name": "ipython",
    "version": 3
   },
   "file_extension": ".py",
   "mimetype": "text/x-python",
   "name": "python",
   "nbconvert_exporter": "python",
   "pygments_lexer": "ipython3",
   "version": "3.8.12"
  }
 },
 "nbformat": 4,
 "nbformat_minor": 5
}
